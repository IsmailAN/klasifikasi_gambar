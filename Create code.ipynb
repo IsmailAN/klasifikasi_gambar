import tensorflow as tf
import zipfile,os
from tensorflow.keras.preprocessing.image import ImageDataGenerator
import numpy as np
from google.colab import files
from tensorflow.keras.preprocessing import image
import matplotlib.pyplot as plt
import matplotlib.image as mpimg
%matplotlib inline

!wget --no-check-certificate \
  https://github.com/dicodingacademy/assets/releases/download/release/rockpaperscissors.zip \
  -O /tmp/rockpaperscissors.zip

local_zip = '/tmp/rockpaperscissors.zip'
zip_ref = zipfile.ZipFile(local_zip,'r')
zip_ref.extractall('/tmp')
zip_ref.close()

base_dir = '/tmp/rockpaperscissors/rps-cv-images'

train_dir = os.path.join(base_dir, 'train')
validation_dir = os.path.join(base_dir, 'val')


#os.listdir('/tmp/rockpaperscissors')

train_datagen = ImageDataGenerator(
                rescale=1./255,
                rotation_range=20,
                horizontal_flip=True,
                shear_range=0.2,
                fill_mode='nearest',
                validation_split=0.4
)


test_datagen = ImageDataGenerator(
                rescale=1.0/255,
                validation_split=0.4

)

train_generator = train_datagen.flow_from_directory(
                  base_dir,
                  target_size=(150,150),
                  batch_size=32,
                  shuffle=True,
                  class_mode='categorical',
                  classes=['rock','paper','scissors'],
                  subset='training',
)
validation_generator = test_datagen.flow_from_directory(
                  base_dir,
                  target_size=(150,150),
                  batch_size=32,
                  shuffle=True,
                  class_mode='categorical',
                  classes=['rock','paper','scissors'],
                  subset='validation'

)

model = tf.keras.models.Sequential([
    tf.keras.layers.Conv2D(32, (3,3), activation='relu', input_shape=(150, 150, 3)),
    tf.keras.layers.MaxPooling2D(2, 2),
    tf.keras.layers.Conv2D(64, (3,3), activation='relu'),
    tf.keras.layers.MaxPooling2D(2,2),
    tf.keras.layers.Conv2D(128, (3,3), activation='relu'),
    tf.keras.layers.MaxPooling2D(2,2),
    tf.keras.layers.Conv2D(512, (3,3), activation='relu'),
    tf.keras.layers.MaxPooling2D(2,2),
    tf.keras.layers.Flatten(),
    tf.keras.layers.Dense(512, activation='relu'),
    tf.keras.layers.Dense(3, activation='softmax')
])
model.summary()

model.compile(loss='categorical_crossentropy',
              optimizer=tf.optimizers.Adam(),
              metrics=['accuracy']
              )

model.fit(
    train_generator,
    steps_per_epoch=25,
    epochs=20,
    validation_data = validation_generator,
    validation_steps=5,
    verbose=2
)
uploaded = files.upload()

for fn in uploaded.keys():

  # predicting images
  path = fn
  img = image.load_img(path, target_size=(150,150))

  imgplot = plt.imshow(img)
  x = image.img_to_array(img)
  x = np.expand_dims(x, axis=0)
  images = np.vstack([x])

  classes = model.predict(images, batch_size=10)
  output_class = np.argmax(classes)
  print(fn)
  if output_class==0:
   print('rock')
  elif output_class==1:
    print('paper')
  else:
   print('scissor')
